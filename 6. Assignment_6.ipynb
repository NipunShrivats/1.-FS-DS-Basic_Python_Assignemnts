{
 "cells": [
  {
   "cell_type": "markdown",
   "id": "aging-shareware",
   "metadata": {},
   "source": [
    "# Assignment - 6"
   ]
  },
  {
   "cell_type": "markdown",
   "id": "pending-clinton",
   "metadata": {},
   "source": [
    "## 1. What are escape characters, and how do you use them?\n",
    "### Ans."
   ]
  },
  {
   "cell_type": "markdown",
   "id": "suited-sequence",
   "metadata": {},
   "source": [
    "#### Escape characters represent characters in string values that would otherwise be difficult or impossible to type into code.\n",
    "#### for eg - '\\\\', '\\n', '\\r', '\\t', '\\b' etc"
   ]
  },
  {
   "cell_type": "markdown",
   "id": "vital-council",
   "metadata": {},
   "source": [
    "## 2. What do the escape characters n and t stand for?\n",
    "### Ans."
   ]
  },
  {
   "cell_type": "markdown",
   "id": "independent-staff",
   "metadata": {},
   "source": [
    "#### '\\n' stands for skipping one line(new line)\n",
    "#### '\\t' stands for one tab space"
   ]
  },
  {
   "cell_type": "markdown",
   "id": "cultural-affiliate",
   "metadata": {},
   "source": [
    "## 3. What is the way to include backslash characters in a string?\n",
    "### Ans."
   ]
  },
  {
   "cell_type": "markdown",
   "id": "following-confidence",
   "metadata": {},
   "source": [
    "#### \"\\\\\" (doubble backslash) \n",
    "#### eg :- print(\"hello \\\\world!\") = hello \\world! "
   ]
  },
  {
   "cell_type": "code",
   "execution_count": 21,
   "id": "descending-reasoning",
   "metadata": {},
   "outputs": [
    {
     "name": "stdout",
     "output_type": "stream",
     "text": [
      "hello \\world!\n"
     ]
    }
   ],
   "source": [
    "print(\"hello \\\\world!\")"
   ]
  },
  {
   "cell_type": "markdown",
   "id": "running-terrorism",
   "metadata": {},
   "source": [
    "## 4. The string \"Howl's Moving Castle\" is a correct value. Why isn't the single quote character in the word Howl's not escaped a problem?\n",
    "### Ans."
   ]
  },
  {
   "cell_type": "markdown",
   "id": "durable-identifier",
   "metadata": {},
   "source": [
    "#### A single quote mark wont give an error as the doubble quotes are ment to mark the start and an end of a string. \n",
    "#### If there is no end it means the string never started."
   ]
  },
  {
   "cell_type": "markdown",
   "id": "danish-palestinian",
   "metadata": {},
   "source": [
    "## 5. How do you write a string of newlines if you don't want to use the n character?\n",
    "### Ans."
   ]
  },
  {
   "cell_type": "markdown",
   "id": "nearby-beach",
   "metadata": {},
   "source": [
    "#### Multiline strings allow you to use newlines in strings without the \\n escape character.\n",
    "#### eg:- "
   ]
  },
  {
   "cell_type": "code",
   "execution_count": 29,
   "id": "veterinary-strap",
   "metadata": {},
   "outputs": [
    {
     "name": "stdout",
     "output_type": "stream",
     "text": [
      "what is yourname?\n",
      "    hello sir!\n"
     ]
    }
   ],
   "source": [
    "A = '''what is yourname?\n",
    "    hello sir!'''   \n",
    "\n",
    "print(A)"
   ]
  },
  {
   "cell_type": "markdown",
   "id": "further-bobby",
   "metadata": {},
   "source": [
    "## 6. What are the values of the given expressions?\n",
    "'Hello, world!'[1]\n",
    "\n",
    "'Hello, world!'[0:5]\n",
    "\n",
    "'Hello, world!'[:5]\n",
    "\n",
    "'Hello, world!'[3:]\n",
    "### Ans."
   ]
  },
  {
   "cell_type": "markdown",
   "id": "architectural-beijing",
   "metadata": {},
   "source": [
    "#### 'Hello, world!'[1] = 'e'\n",
    "\n",
    "#### 'Hello, world!'[0:5] = 'Hello'\n",
    "\n",
    "#### 'Hello, world!'[:5] = 'Hello'\n",
    "\n",
    "#### 'Hello, world!'[3:] = 'lo, world!'"
   ]
  },
  {
   "cell_type": "markdown",
   "id": "electric-colorado",
   "metadata": {},
   "source": [
    "## 7. What are the values of the following expressions?\n",
    "\n",
    "'Hello'.upper()\n",
    "\n",
    "'Hello'.upper().isupper()\n",
    "\n",
    "'Hello'.upper().lower()\n",
    "### Ans."
   ]
  },
  {
   "cell_type": "markdown",
   "id": "public-conditions",
   "metadata": {},
   "source": [
    "#### 'Hello'.upper() = 'HELLO'\n",
    "\n",
    "#### 'Hello'.upper().isupper() = True\n",
    "\n",
    "#### 'Hello'.upper().lower() = 'hello'"
   ]
  },
  {
   "cell_type": "markdown",
   "id": "intermediate-closure",
   "metadata": {},
   "source": [
    "## 8. What are the values of the following expressions?\n",
    "'Remember, remember, the fifth of July.'.split()\n",
    "\n",
    "'-'.join('There can only one.'.split())\n",
    "### Ans."
   ]
  },
  {
   "cell_type": "markdown",
   "id": "therapeutic-plasma",
   "metadata": {},
   "source": [
    "#### 'Remember, remember, the fifth of July.'.split() = ['Remember,', 'remember,', 'the', 'fifth', 'of', 'July.']  \n",
    "\n",
    "#### '-'.join('There can only one.'.split()) = 'There-can-only-one.'"
   ]
  },
  {
   "cell_type": "markdown",
   "id": "great-pixel",
   "metadata": {},
   "source": [
    "## 9. What are the methods for right-justifying, left-justifying, and centering a string?\n",
    "### Ans."
   ]
  },
  {
   "cell_type": "markdown",
   "id": "transparent-reserve",
   "metadata": {},
   "source": [
    "#### The rjust(), ljust(), and center() string methods, respectively"
   ]
  },
  {
   "cell_type": "markdown",
   "id": "bulgarian-network",
   "metadata": {},
   "source": [
    "## 10. What is the best way to remove whitespace characters from the start or end?\n",
    "### Ans."
   ]
  },
  {
   "cell_type": "markdown",
   "id": "brutal-gibraltar",
   "metadata": {},
   "source": [
    "#### The lstrip() and rstrip() methods remove whitespace from the left and right ends of a string, respectively."
   ]
  },
  {
   "cell_type": "code",
   "execution_count": 61,
   "id": "consolidated-match",
   "metadata": {},
   "outputs": [
    {
     "name": "stdout",
     "output_type": "stream",
     "text": [
      " Heloo my name is     snoop dogg   aka snoop lion        \n",
      "Heloo my name is     snoop dogg   aka snoop lion        \n",
      " Heloo my name is     snoop dogg   aka snoop lion\n",
      "Heloo my name is     snoop dogg   aka snoop lion\n"
     ]
    }
   ],
   "source": [
    "A = ' Heloo my name is     snoop dogg   aka snoop lion        '\n",
    "print(A)\n",
    "print(A.lstrip())\n",
    "print(A.rstrip())\n",
    "print((A.lstrip()).rstrip())"
   ]
  },
  {
   "cell_type": "code",
   "execution_count": null,
   "id": "disturbed-syracuse",
   "metadata": {},
   "outputs": [],
   "source": []
  }
 ],
 "metadata": {
  "kernelspec": {
   "display_name": "Python 3",
   "language": "python",
   "name": "python3"
  },
  "language_info": {
   "codemirror_mode": {
    "name": "ipython",
    "version": 3
   },
   "file_extension": ".py",
   "mimetype": "text/x-python",
   "name": "python",
   "nbconvert_exporter": "python",
   "pygments_lexer": "ipython3",
   "version": "3.8.5"
  }
 },
 "nbformat": 4,
 "nbformat_minor": 5
}
