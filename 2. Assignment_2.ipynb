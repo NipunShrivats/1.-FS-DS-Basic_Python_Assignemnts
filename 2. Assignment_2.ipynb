{
 "cells": [
  {
   "cell_type": "markdown",
   "id": "behavioral-dress",
   "metadata": {},
   "source": [
    "# Q1.What are the two values of the Boolean data type? How do you write them?\n",
    "Sol. "
   ]
  },
  {
   "cell_type": "raw",
   "id": "endangered-consensus",
   "metadata": {},
   "source": [
    "True and False, using capital T and F, with the rest of the word in lowercase"
   ]
  },
  {
   "cell_type": "markdown",
   "id": "female-reference",
   "metadata": {},
   "source": [
    "# Q2. What are the three different types of Boolean operators?\n",
    "Sol."
   ]
  },
  {
   "cell_type": "raw",
   "id": "arranged-profession",
   "metadata": {},
   "source": [
    "and, or, and not"
   ]
  },
  {
   "cell_type": "markdown",
   "id": "parental-gentleman",
   "metadata": {},
   "source": [
    "# Q3. Make a list of each Boolean operator's truth tables (i.e. every possible combination of Boolean values for the operator and what it evaluate ).\n",
    "Sol."
   ]
  },
  {
   "cell_type": "code",
   "execution_count": 1,
   "id": "bulgarian-chocolate",
   "metadata": {},
   "outputs": [
    {
     "name": "stdout",
     "output_type": "stream",
     "text": [
      "True and True is True is: True\n",
      "True and True is False is: False\n",
      "True and False is True is: False\n",
      "True and False is False is: True\n",
      "True or True is True is: True\n",
      "True or True is False is: True\n",
      "True or False is True is: True\n",
      "True or False is False is: True\n",
      "not True is False is: True\n",
      "not False is True is: True\n"
     ]
    }
   ],
   "source": [
    "print('True and True is True is:', True and True is True)\n",
    "print('True and True is False is:', True and True is False)\n",
    "print('True and False is True is:', True and False is True)\n",
    "print('True and False is False is:', True and False is False)\n",
    "\n",
    "print('True or True is True is:', True or True is True)\n",
    "print('True or True is False is:', True or True is False)\n",
    "print('True or False is True is:', True or False is True)\n",
    "print('True or False is False is:', True or False is False)\n",
    "\n",
    "print('not True is False is:', not True is False)\n",
    "print('not False is True is:', not False is True)"
   ]
  },
  {
   "cell_type": "markdown",
   "id": "final-bicycle",
   "metadata": {},
   "source": [
    "# Q4. What are the values of the following expressions?\n",
    "(5 > 4) and (3 == 5)\n",
    "\n",
    "not (5 > 4)\n",
    "\n",
    "(5 > 4) or (3 == 5)\n",
    "\n",
    "not ((5 > 4) or (3 == 5))\n",
    "\n",
    "(True and True) and (True == False)\n",
    "\n",
    "(not False) or (not True)\n",
    "\n",
    "Sol."
   ]
  },
  {
   "cell_type": "code",
   "execution_count": 2,
   "id": "unavailable-expense",
   "metadata": {},
   "outputs": [
    {
     "name": "stdout",
     "output_type": "stream",
     "text": [
      "False\n",
      "False\n",
      "True\n",
      "False\n",
      "False\n",
      "True\n"
     ]
    }
   ],
   "source": [
    "print((5 > 4) and (3 == 5))\n",
    "\n",
    "print(not (5 > 4))\n",
    "\n",
    "print((5 > 4) or (3 == 5))\n",
    "\n",
    "print(not ((5 > 4) or (3 == 5)))\n",
    "\n",
    "print((True and True) and (True == False))\n",
    "\n",
    "print((not False) or (not True))"
   ]
  },
  {
   "cell_type": "markdown",
   "id": "encouraging-bahrain",
   "metadata": {},
   "source": [
    "# Q5. What are the six comparison operators?\n",
    "Sol."
   ]
  },
  {
   "cell_type": "raw",
   "id": "advance-yugoslavia",
   "metadata": {},
   "source": [
    "1. ==, \n",
    "2. !=, \n",
    "3. <, \n",
    "4. >, \n",
    "5. <=, \n",
    "6. and >="
   ]
  },
  {
   "cell_type": "markdown",
   "id": "choice-superintendent",
   "metadata": {},
   "source": [
    "# Q6. How do you tell the difference between the equal to and assignment operators?Describe a condition and when you would use one.\n",
    "\n",
    "Sol."
   ]
  },
  {
   "cell_type": "raw",
   "id": "advised-advancement",
   "metadata": {},
   "source": [
    "== is the equal to operator that compares two values and evaluates to a Boolean, while = is the assignment operator that stores a value in a variable.\n",
    "\n",
    "in case of assigning the value to a variable we will use: '=' as name = 'Ram' and the value of name will be 'Ram'\n",
    "\n",
    "when we have to prove that the value of name = ram is true or false we will use name == 'ram'"
   ]
  },
  {
   "cell_type": "code",
   "execution_count": 3,
   "id": "absent-excuse",
   "metadata": {},
   "outputs": [
    {
     "data": {
      "text/plain": [
       "True"
      ]
     },
     "execution_count": 3,
     "metadata": {},
     "output_type": "execute_result"
    }
   ],
   "source": [
    "name = 'Ram'\n",
    "name == 'Ram'"
   ]
  },
  {
   "cell_type": "markdown",
   "id": "changed-electricity",
   "metadata": {},
   "source": [
    "# Q7. Identify the three blocks in this code:"
   ]
  },
  {
   "cell_type": "raw",
   "id": "informed-shopper",
   "metadata": {},
   "source": [
    "spam = 0\n",
    "if spam == 10:\n",
    "    print('eggs')\n",
    "if spam > 5:\n",
    "    print('bacon')\n",
    "else:\n",
    "    print('ham')\n",
    "    print('spam')\n",
    "    print('spam')"
   ]
  },
  {
   "cell_type": "raw",
   "id": "stuck-aviation",
   "metadata": {},
   "source": [
    "## Sol. \n",
    "\n",
    "The three blocks are everything inside the if statement and the lines:\n",
    "\n",
    "1) if spam == 10:\n",
    "       print('eggs')\n",
    "    \n",
    "2) if spam > 5:\n",
    "       print('bacon')\n",
    "\n",
    "3) else:\n",
    "       print('ham')\n",
    "       print('spam')\n",
    "       print('spam')"
   ]
  },
  {
   "cell_type": "markdown",
   "id": "hydraulic-playing",
   "metadata": {},
   "source": [
    "# Q8. Write code that prints Hello if 1 is stored in spam, prints Howdy if 2 is stored in spam, and prints Greetings! if anything else is stored in spam.\n",
    "Sol."
   ]
  },
  {
   "cell_type": "code",
   "execution_count": 4,
   "id": "pacific-tractor",
   "metadata": {},
   "outputs": [
    {
     "name": "stdout",
     "output_type": "stream",
     "text": [
      "Howdy\n"
     ]
    }
   ],
   "source": [
    "spam = 2\n",
    "if spam == 1:\n",
    "    print('Hello')\n",
    "if spam == 2:\n",
    "    print('Howdy')\n",
    "else:\n",
    "    print('Greetings!')"
   ]
  },
  {
   "cell_type": "markdown",
   "id": "posted-label",
   "metadata": {},
   "source": [
    "# Q9.If your programme is stuck in an endless loop, what keys you’ll press?\n",
    "Sol."
   ]
  },
  {
   "cell_type": "markdown",
   "id": "dietary-wisdom",
   "metadata": {},
   "source": [
    "Press CTRL-C to stop a program stuck in an infinite loop."
   ]
  },
  {
   "cell_type": "markdown",
   "id": "directed-stuart",
   "metadata": {},
   "source": [
    "# Q10. How can you tell the difference between break and continue?\n",
    "Sol."
   ]
  },
  {
   "cell_type": "raw",
   "id": "northern-boating",
   "metadata": {},
   "source": [
    "The break statement will move the execution outside and just after a loop. The continue statement will move the execution to the start of the loop."
   ]
  },
  {
   "cell_type": "markdown",
   "id": "dominant-appeal",
   "metadata": {},
   "source": [
    "# Q11. In a for loop, what is the difference between range(10), range(0, 10), and range(0, 10, 1)?\n",
    "Sol."
   ]
  },
  {
   "cell_type": "raw",
   "id": "voluntary-invitation",
   "metadata": {},
   "source": [
    "They all do the same thing. The range(10) call ranges from 0 up to (but not including) 10, range(0, 10) explicitly tells the loop to start at 0, and range(0, 10, 1) explicitly tells the loop to increase the variable by 1 on each iteration."
   ]
  },
  {
   "cell_type": "markdown",
   "id": "incorrect-integration",
   "metadata": {},
   "source": [
    "# Q12. Write a short program that prints the numbers 1 to 10 using a for loop. Then write an equivalent program that prints the numbers 1 to 10 using a while loop.\n",
    "Sol."
   ]
  },
  {
   "cell_type": "code",
   "execution_count": 5,
   "id": "renewable-elephant",
   "metadata": {},
   "outputs": [
    {
     "name": "stdout",
     "output_type": "stream",
     "text": [
      "0\n",
      "1\n",
      "2\n",
      "3\n",
      "4\n",
      "5\n",
      "6\n",
      "7\n",
      "8\n",
      "9\n",
      "10\n"
     ]
    }
   ],
   "source": [
    "for n in range(11):\n",
    "    print(n)"
   ]
  },
  {
   "cell_type": "code",
   "execution_count": 6,
   "id": "wrapped-intervention",
   "metadata": {},
   "outputs": [
    {
     "name": "stdout",
     "output_type": "stream",
     "text": [
      "1\n",
      "2\n",
      "3\n",
      "4\n",
      "5\n",
      "6\n",
      "7\n",
      "8\n",
      "9\n",
      "10\n"
     ]
    }
   ],
   "source": [
    "i = 1\n",
    "while (i<=10):\n",
    "    print(i)\n",
    "    i += 1"
   ]
  },
  {
   "cell_type": "markdown",
   "id": "incorporate-alarm",
   "metadata": {},
   "source": [
    "# Q13. If you had a function named bacon() inside a module named spam, how would you call it after importing spam?\n",
    "Sol."
   ]
  },
  {
   "cell_type": "raw",
   "id": "promising-symposium",
   "metadata": {},
   "source": [
    "spam.bacon()"
   ]
  },
  {
   "cell_type": "code",
   "execution_count": null,
   "id": "standing-accounting",
   "metadata": {},
   "outputs": [],
   "source": []
  }
 ],
 "metadata": {
  "kernelspec": {
   "display_name": "Python 3",
   "language": "python",
   "name": "python3"
  },
  "language_info": {
   "codemirror_mode": {
    "name": "ipython",
    "version": 3
   },
   "file_extension": ".py",
   "mimetype": "text/x-python",
   "name": "python",
   "nbconvert_exporter": "python",
   "pygments_lexer": "ipython3",
   "version": "3.8.5"
  }
 },
 "nbformat": 4,
 "nbformat_minor": 5
}
