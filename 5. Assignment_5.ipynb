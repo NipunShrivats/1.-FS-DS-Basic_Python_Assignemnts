{
 "cells": [
  {
   "cell_type": "markdown",
   "id": "acute-kernel",
   "metadata": {},
   "source": [
    "#  Assignment-5"
   ]
  },
  {
   "cell_type": "markdown",
   "id": "talented-sacramento",
   "metadata": {},
   "source": [
    "## 1. What does an empty dictionary's code look like?\n",
    "### Ans. "
   ]
  },
  {
   "cell_type": "markdown",
   "id": "sexual-seminar",
   "metadata": {},
   "source": [
    "#### dict_empty = {}"
   ]
  },
  {
   "cell_type": "markdown",
   "id": "changed-material",
   "metadata": {},
   "source": [
    "## 2. What is the value of a dictionary value with the key 'foo' and the value 42?\n",
    "### Ans. "
   ]
  },
  {
   "cell_type": "markdown",
   "id": "integral-faith",
   "metadata": {},
   "source": [
    "#### dict = {'foo':42}"
   ]
  },
  {
   "cell_type": "markdown",
   "id": "prescription-links",
   "metadata": {},
   "source": [
    "## 3. What is the most significant distinction between a dictionary and a list?\n",
    "### Ans. "
   ]
  },
  {
   "cell_type": "markdown",
   "id": "needed-waters",
   "metadata": {},
   "source": [
    "#### The items stored in a dictionary are unordered, while the items in a list are ordered.\n",
    "#### dictionary uses \"{}\" while list uses \"[]\"."
   ]
  },
  {
   "cell_type": "markdown",
   "id": "close-option",
   "metadata": {},
   "source": [
    "## 4. What happens if you try to access spam['foo'] if spam is {'bar': 100}?\n",
    "### Ans. "
   ]
  },
  {
   "cell_type": "markdown",
   "id": "charitable-longitude",
   "metadata": {},
   "source": [
    "#### If spam = {'bar': 100}\n",
    "#### Then spam['foo'] will give result = KeyError: 'foo'"
   ]
  },
  {
   "cell_type": "markdown",
   "id": "shaped-modification",
   "metadata": {},
   "source": [
    "## 5. If a dictionary is stored in spam, what is the difference between the expressions 'cat' in spam and 'cat' in spam.keys()?\n",
    "### Ans. "
   ]
  },
  {
   "cell_type": "markdown",
   "id": "ignored-official",
   "metadata": {},
   "source": [
    "#### There is no difference in both storing 'cat'. The in operator checks whether a value exists as a key in the dictionary.\n",
    "####  \"The 'cat' in spam\" will tell if  'cat' exist in the dictionary spam(not necessarily as a key) \n",
    "#### but \"'cat' in spam.keys()\" will tell if  'cat' exists as a key in the dict(necessary to be a key value pair)"
   ]
  },
  {
   "cell_type": "markdown",
   "id": "tough-document",
   "metadata": {},
   "source": [
    "## 6. If a dictionary is stored in spam, what is the difference between the expressions 'cat' in spam and 'cat' in spam.values()?\n",
    "### Ans. "
   ]
  },
  {
   "cell_type": "markdown",
   "id": "golden-bread",
   "metadata": {},
   "source": [
    "#### \"'cat' in spam\" will tell if 'cat' exist in the dictionary spam(not necessarily as a value or a key)\n",
    "#### but \"'cat' in spam.values()\" will tell that if 'cat' exist in the dictionary spam as a value of a key or not."
   ]
  },
  {
   "cell_type": "markdown",
   "id": "other-minority",
   "metadata": {},
   "source": [
    "## 7. What is a shortcut for the following code?\n",
    "if 'color' not in spam:\n",
    "\n",
    "spam['color'] = 'black'\n",
    "### Ans. "
   ]
  },
  {
   "cell_type": "markdown",
   "id": "peripheral-sigma",
   "metadata": {},
   "source": [
    "###the setdefault####\n",
    "#### spam.setdefault('colour', 'black')"
   ]
  },
  {
   "cell_type": "markdown",
   "id": "announced-graphic",
   "metadata": {},
   "source": [
    "## 8. How do you \"pretty print\" dictionary values using which module and function?\n",
    "### Ans."
   ]
  },
  {
   "cell_type": "markdown",
   "id": "comprehensive-characterization",
   "metadata": {},
   "source": [
    "##The python module pprint##\n",
    "\n",
    "##We have to import pprint##\n",
    "\n",
    "#### pprint.pprint(spam)"
   ]
  },
  {
   "cell_type": "code",
   "execution_count": null,
   "id": "major-staff",
   "metadata": {},
   "outputs": [],
   "source": []
  }
 ],
 "metadata": {
  "kernelspec": {
   "display_name": "Python 3",
   "language": "python",
   "name": "python3"
  },
  "language_info": {
   "codemirror_mode": {
    "name": "ipython",
    "version": 3
   },
   "file_extension": ".py",
   "mimetype": "text/x-python",
   "name": "python",
   "nbconvert_exporter": "python",
   "pygments_lexer": "ipython3",
   "version": "3.8.5"
  }
 },
 "nbformat": 4,
 "nbformat_minor": 5
}
