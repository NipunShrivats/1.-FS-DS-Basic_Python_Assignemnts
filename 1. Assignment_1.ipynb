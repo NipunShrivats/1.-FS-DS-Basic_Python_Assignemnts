{
 "cells": [
  {
   "cell_type": "markdown",
   "id": "insured-consideration",
   "metadata": {},
   "source": [
    "# Q1. In the below elements which of them are values or an expression? \n",
    "eg:- values can be integer or string and expressions will be mathematical operators.\n",
    "\n",
    "Sol."
   ]
  },
  {
   "cell_type": "raw",
   "id": "occupied-barbados",
   "metadata": {},
   "source": [
    "values = 'hello', -87.8, 6\n",
    "\n",
    "expressions = *, -, /, +"
   ]
  },
  {
   "cell_type": "markdown",
   "id": "catholic-system",
   "metadata": {},
   "source": [
    "# Q2. What is the difference between string and variable?\n",
    "\n",
    "sol."
   ]
  },
  {
   "cell_type": "raw",
   "id": "pursuant-baseline",
   "metadata": {},
   "source": [
    "Strings are surrounded by either single quotation marks, or double quotation marks. eg: 'hello' or \"hello\".\n",
    "\n",
    "Variables are containers for storing data values. We assign the values in variables and a string value can be assigned to a variable.\n",
    "\n",
    "eg: x = 2\n",
    "    y = \"Ram\""
   ]
  },
  {
   "cell_type": "markdown",
   "id": "english-colonial",
   "metadata": {},
   "source": [
    "# Q3. Describe three different data types.\n",
    "\n",
    "sol."
   ]
  },
  {
   "cell_type": "raw",
   "id": "cardiac-average",
   "metadata": {},
   "source": [
    "1. Text Type: str\n",
    "\n",
    "2. Numeric Types: int, float, complex\n",
    "\n",
    "3. Sequence Types: list, tuple, range\n",
    "\n",
    "# We can get the data type of any object by using the type() function."
   ]
  },
  {
   "cell_type": "markdown",
   "id": "split-verification",
   "metadata": {},
   "source": [
    "# Q4. What is an expression made up of? What do all expressions do? \n",
    "\n",
    "sol."
   ]
  },
  {
   "cell_type": "raw",
   "id": "naked-expression",
   "metadata": {},
   "source": [
    "An expression is a combination of values, variables, operators, and calls to functions.\n",
    "\n",
    "If we ask Python to print an expression, the interpreter evaluates the expression and displays the result.\n",
    "\n",
    "eg: 'print', 'type'"
   ]
  },
  {
   "cell_type": "markdown",
   "id": "burning-slide",
   "metadata": {},
   "source": [
    "# Q5. This assignment statements, like spam = 10. What is the difference between an expression and a statement?\n",
    "\n",
    "sol."
   ]
  },
  {
   "cell_type": "raw",
   "id": "vertical-fitting",
   "metadata": {},
   "source": [
    "In programming language terminology, an “expression” is a combination of values and functions that are combined and interpreted by the compiler to create a new value, as opposed to a “statement” which is just a standalone unit of execution and doesn’t return anything"
   ]
  },
  {
   "cell_type": "markdown",
   "id": "solved-study",
   "metadata": {},
   "source": [
    "# Q6. After running the following code, what does the variable bacon contain?\n",
    "bacon = 22\n",
    "\n",
    "bacon + 1\n",
    "\n",
    "sol."
   ]
  },
  {
   "cell_type": "code",
   "execution_count": 1,
   "id": "brazilian-relations",
   "metadata": {},
   "outputs": [
    {
     "data": {
      "text/plain": [
       "23"
      ]
     },
     "execution_count": 1,
     "metadata": {},
     "output_type": "execute_result"
    }
   ],
   "source": [
    "bacon = 22\n",
    "bacon + 1"
   ]
  },
  {
   "cell_type": "markdown",
   "id": "toxic-exception",
   "metadata": {},
   "source": [
    "7. What should the values of the following two terms be?\n",
    "- 'spam' + 'spamspam'\n",
    "\n",
    "- 'spam' * 3\n",
    "\n",
    "sol."
   ]
  },
  {
   "cell_type": "code",
   "execution_count": 2,
   "id": "american-zimbabwe",
   "metadata": {},
   "outputs": [
    {
     "data": {
      "text/plain": [
       "'spamspamspam'"
      ]
     },
     "execution_count": 2,
     "metadata": {},
     "output_type": "execute_result"
    }
   ],
   "source": [
    "'spam' + 'spamspam'\n",
    "\n",
    "'spam' * 3"
   ]
  },
  {
   "cell_type": "markdown",
   "id": "still-houston",
   "metadata": {},
   "source": [
    "# Q8. Why is eggs a valid variable name while 100 is invalid?\n",
    "sol."
   ]
  },
  {
   "cell_type": "raw",
   "id": "material-channel",
   "metadata": {},
   "source": [
    "Eggs a valid variable name while 100 is invalid because Variable names cannot begin with a number."
   ]
  },
  {
   "cell_type": "markdown",
   "id": "dying-pollution",
   "metadata": {},
   "source": [
    "# Q9. What three functions can be used to get the integer, floating-point number, or string version of a value?\n"
   ]
  },
  {
   "cell_type": "raw",
   "id": "defensive-transaction",
   "metadata": {},
   "source": [
    "The int(), float(), and str() functions will evaluate to the integer, floating-point number, and string versions of the value passed to them."
   ]
  },
  {
   "cell_type": "markdown",
   "id": "grand-favorite",
   "metadata": {},
   "source": [
    "# Q10. Why does this expression cause an error? How can you fix it?\n",
    "'I have eaten ' + 99 + ' burritos.'"
   ]
  },
  {
   "cell_type": "markdown",
   "id": "close-macro",
   "metadata": {},
   "source": [
    "The expression causes an error because 99 is an integer, and only strings can be concatenated to other strings with the + operator."
   ]
  },
  {
   "cell_type": "code",
   "execution_count": 3,
   "id": "ordinary-flexibility",
   "metadata": {},
   "outputs": [
    {
     "data": {
      "text/plain": [
       "'I have eaten99 burritos.'"
      ]
     },
     "execution_count": 3,
     "metadata": {},
     "output_type": "execute_result"
    }
   ],
   "source": [
    "# The correct way is:\n",
    "\n",
    "'I have eaten' + str(99) + ' burritos.'"
   ]
  },
  {
   "cell_type": "code",
   "execution_count": null,
   "id": "horizontal-understanding",
   "metadata": {},
   "outputs": [],
   "source": []
  }
 ],
 "metadata": {
  "kernelspec": {
   "display_name": "Python 3",
   "language": "python",
   "name": "python3"
  },
  "language_info": {
   "codemirror_mode": {
    "name": "ipython",
    "version": 3
   },
   "file_extension": ".py",
   "mimetype": "text/x-python",
   "name": "python",
   "nbconvert_exporter": "python",
   "pygments_lexer": "ipython3",
   "version": "3.8.5"
  }
 },
 "nbformat": 4,
 "nbformat_minor": 5
}
