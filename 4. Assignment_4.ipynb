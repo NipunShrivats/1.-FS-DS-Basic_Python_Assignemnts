{
 "cells": [
  {
   "cell_type": "markdown",
   "id": "respected-breast",
   "metadata": {},
   "source": [
    "# Assignment - 4"
   ]
  },
  {
   "cell_type": "markdown",
   "id": "simplified-petite",
   "metadata": {},
   "source": [
    "# Q1. What exactly is []?"
   ]
  },
  {
   "cell_type": "markdown",
   "id": "mechanical-nightmare",
   "metadata": {},
   "source": [
    "### Ans.\n",
    "#### The empty list value, which is a list value that contains no items. This is similar to how  \" \"  is the empty string value."
   ]
  },
  {
   "cell_type": "markdown",
   "id": "affecting-submission",
   "metadata": {},
   "source": [
    "# Q2. In a list of values stored in a variable called spam, how would you assign the value 'hello' as the third value? (Assume [2, 4, 6, 8, 10] are in spam.)\n",
    "\n",
    "### Let's pretend the spam includes the list ['a', 'b', 'c', 'd'] for the next three queries.\n",
    "### Ans."
   ]
  },
  {
   "cell_type": "markdown",
   "id": "mighty-philippines",
   "metadata": {},
   "source": [
    "#### spam = [2, 4, 6, 8, 10]\n",
    "#### spam[2] = 'hello'\n",
    "#### spam = [2, 4, 'hello', 8, 10]"
   ]
  },
  {
   "cell_type": "markdown",
   "id": "exceptional-bedroom",
   "metadata": {},
   "source": [
    "# Q3. What is the value of spam[int(int('3' * 2) / 11)]?"
   ]
  },
  {
   "cell_type": "markdown",
   "id": "adaptive-montreal",
   "metadata": {},
   "source": [
    "### Ans.\n",
    "#### spam = [2, 4, 6, 8, 10]\n",
    "\n",
    "#### As ('3' * 2)/11 = 3 \n",
    "#### So, spam[3] = 8"
   ]
  },
  {
   "cell_type": "markdown",
   "id": "brief-cancellation",
   "metadata": {},
   "source": [
    "# Q4. What is the value of spam[-1]?"
   ]
  },
  {
   "cell_type": "markdown",
   "id": "surrounded-correction",
   "metadata": {},
   "source": [
    "### Ans.\n",
    "#### spam[-1] = 10"
   ]
  },
  {
   "cell_type": "markdown",
   "id": "atmospheric-bracelet",
   "metadata": {},
   "source": [
    "# Q5. What is the value of spam[:2]?"
   ]
  },
  {
   "cell_type": "markdown",
   "id": "similar-therapy",
   "metadata": {},
   "source": [
    "### Ans.\n",
    "#### spam = [2, 4, 6, 8, 10]\n",
    "#### spam[:2] = [2, 4]"
   ]
  },
  {
   "cell_type": "markdown",
   "id": "composed-option",
   "metadata": {},
   "source": [
    "## Let's pretend bacon has the list [3.14, 'cat', 11, 'cat', True] for the next three questions.\n",
    "# Q6. What is the value of bacon.index('cat')?"
   ]
  },
  {
   "cell_type": "markdown",
   "id": "fixed-gazette",
   "metadata": {},
   "source": [
    "### Ans.\n",
    "#### bacon = [3.14, 'cat', 11, 'cat', True]\n",
    "#### bacon.index('cat') = 1"
   ]
  },
  {
   "cell_type": "markdown",
   "id": "regulation-ministry",
   "metadata": {},
   "source": [
    "# Q7. How does bacon.append(99) change the look of the list value in bacon?"
   ]
  },
  {
   "cell_type": "markdown",
   "id": "neither-mozambique",
   "metadata": {},
   "source": [
    "### Ans.\n",
    "#### bacon = [3.14, 'cat', 11, 'cat', True]\n",
    "#### bacon.append(99) = [3.14, 'cat', 11, 'cat', True, 99]"
   ]
  },
  {
   "cell_type": "markdown",
   "id": "marine-sphere",
   "metadata": {},
   "source": [
    "# Q8. How does bacon.remove('cat') change the look of the list in bacon?"
   ]
  },
  {
   "cell_type": "markdown",
   "id": "animated-nelson",
   "metadata": {},
   "source": [
    "### Ans.\n",
    "#### bacon = [3.14, 'cat', 11, 'cat', True]\n",
    "#### bacon.remove('cat') = [3.14, 11, 'cat', True]\n",
    "#### if we run the same command 2 times both 'cat will be removed from teh list'"
   ]
  },
  {
   "cell_type": "markdown",
   "id": "arranged-platinum",
   "metadata": {},
   "source": [
    "# Q9. What are the list concatenation and list replication operators?"
   ]
  },
  {
   "cell_type": "markdown",
   "id": "ranking-serbia",
   "metadata": {},
   "source": [
    "### Ans.\n",
    "#### The operator for list concatenation is +, while the operator for replication is *. (This is the same as for strings.)"
   ]
  },
  {
   "cell_type": "markdown",
   "id": "sophisticated-packet",
   "metadata": {},
   "source": [
    "# Q10. What is difference between the list methods append() and insert()?"
   ]
  },
  {
   "cell_type": "markdown",
   "id": "worthy-rebel",
   "metadata": {},
   "source": [
    "### Ans.\n",
    "#### While append() will add values only to the end of a list, insert() can add them anywhere in the list."
   ]
  },
  {
   "cell_type": "markdown",
   "id": "identical-priority",
   "metadata": {},
   "source": [
    "# Q11. What are the two methods for removing items from a list?"
   ]
  },
  {
   "cell_type": "markdown",
   "id": "frozen-metropolitan",
   "metadata": {},
   "source": [
    "### Ans.\n",
    "#### The del statement and the remove() list method are two ways to remove values from a list."
   ]
  },
  {
   "cell_type": "markdown",
   "id": "packed-primary",
   "metadata": {},
   "source": [
    "# Q12. Describe how list values and string values are identical."
   ]
  },
  {
   "cell_type": "markdown",
   "id": "limited-doctor",
   "metadata": {},
   "source": [
    "### Ans.\n",
    "#### 1. Both lists and strings can be passed to len(). \n",
    "#### 2. Have indexes and slices, be used in for loops.\n",
    "#### 3. Be concatenated or replicated.\n",
    "#### 4. Be used with the in and not in operators."
   ]
  },
  {
   "cell_type": "markdown",
   "id": "funded-helicopter",
   "metadata": {},
   "source": [
    "# Q13. What's the difference between tuples and lists?"
   ]
  },
  {
   "cell_type": "markdown",
   "id": "guided-denver",
   "metadata": {},
   "source": [
    "### Ans.\n",
    "\n",
    "- Lists are mutable; they can have values added, removed, or changed. \n",
    "- Tuples are immutable; they cannot be changed at all. Also, tuples are written using parentheses, ( and ), while lists use the square brackets, [ and ]."
   ]
  },
  {
   "cell_type": "markdown",
   "id": "outdoor-morning",
   "metadata": {},
   "source": [
    "# Q14. How do you type a tuple value that only contains the integer 42?"
   ]
  },
  {
   "cell_type": "markdown",
   "id": "respective-huntington",
   "metadata": {},
   "source": [
    "### Ans.\n",
    "#### (42,)"
   ]
  },
  {
   "cell_type": "markdown",
   "id": "skilled-ozone",
   "metadata": {},
   "source": [
    "# Q15. How do you get a list value's tuple form? How do you get a tuple value's list form?"
   ]
  },
  {
   "cell_type": "markdown",
   "id": "infinite-christmas",
   "metadata": {},
   "source": [
    "### Ans.\n",
    "#### By using the tuple() and list() functions, respectively"
   ]
  },
  {
   "cell_type": "markdown",
   "id": "approximate-disposal",
   "metadata": {},
   "source": [
    "# Q16. Variables that \"contain\" list values are not necessarily lists themselves. Instead, what do they contain?"
   ]
  },
  {
   "cell_type": "markdown",
   "id": "complex-preference",
   "metadata": {},
   "source": [
    "### Ans.\n",
    "#### They contain references to list values."
   ]
  },
  {
   "cell_type": "markdown",
   "id": "apparent-budapest",
   "metadata": {},
   "source": [
    "# Q17. How do you distinguish between copy.copy() and copy.deepcopy()?"
   ]
  },
  {
   "cell_type": "markdown",
   "id": "global-problem",
   "metadata": {},
   "source": [
    "### Ans.\n",
    "#### The copy.copy() function will do a shallow copy of a list, while the copy.deepcopy() function will do a deep copy of a list. \n",
    "\n",
    "#### That is, only copy.deepcopy() will duplicate any lists inside the list."
   ]
  },
  {
   "cell_type": "code",
   "execution_count": null,
   "id": "suspended-jason",
   "metadata": {},
   "outputs": [],
   "source": []
  }
 ],
 "metadata": {
  "kernelspec": {
   "display_name": "Python 3",
   "language": "python",
   "name": "python3"
  },
  "language_info": {
   "codemirror_mode": {
    "name": "ipython",
    "version": 3
   },
   "file_extension": ".py",
   "mimetype": "text/x-python",
   "name": "python",
   "nbconvert_exporter": "python",
   "pygments_lexer": "ipython3",
   "version": "3.8.5"
  }
 },
 "nbformat": 4,
 "nbformat_minor": 5
}
