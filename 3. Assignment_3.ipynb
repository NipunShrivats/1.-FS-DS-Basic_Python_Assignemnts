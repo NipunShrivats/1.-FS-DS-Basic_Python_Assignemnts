{
 "cells": [
  {
   "cell_type": "markdown",
   "id": "reverse-progressive",
   "metadata": {},
   "source": [
    "# Assignment - 3"
   ]
  },
  {
   "cell_type": "markdown",
   "id": "better-alberta",
   "metadata": {},
   "source": [
    "# Q1. Why are functions advantageous to have in your programs?"
   ]
  },
  {
   "cell_type": "markdown",
   "id": "unexpected-cambridge",
   "metadata": {},
   "source": [
    "### Ans.\n",
    "#### 1. Functions is similar to a program that consists of a group of statements that are intended to perform a specific task.\n",
    "#### 2. Functions reduce the need for duplicate code. This makes programs shorter, easier to read, and easier to update.\n",
    "- Keyword \"def\""
   ]
  },
  {
   "cell_type": "markdown",
   "id": "literary-crossing",
   "metadata": {},
   "source": [
    "# Q2. When does the code in a function run: when it's specified or when it's called?"
   ]
  },
  {
   "cell_type": "markdown",
   "id": "accomplished-insertion",
   "metadata": {},
   "source": [
    "### Ans.\n",
    "#### The code in a function executes when the function is called, not when the function is specified."
   ]
  },
  {
   "cell_type": "markdown",
   "id": "owned-frontier",
   "metadata": {},
   "source": [
    "# Q3. What statement creates a function?"
   ]
  },
  {
   "cell_type": "markdown",
   "id": "backed-conflict",
   "metadata": {},
   "source": [
    "### Ans.\n",
    "#### The def statement defines (that is, creates) a function."
   ]
  },
  {
   "cell_type": "markdown",
   "id": "heated-expense",
   "metadata": {},
   "source": [
    "# Q4. What is the difference between a function and a function call?"
   ]
  },
  {
   "cell_type": "markdown",
   "id": "fitting-flash",
   "metadata": {},
   "source": [
    "### Ans.\n",
    "#### A function consists of the def statement and the code in its def clause.\n",
    "\n",
    "#### A function call is what moves the program execution into the function, and the function call evaluates to the function's return value."
   ]
  },
  {
   "cell_type": "markdown",
   "id": "experienced-porter",
   "metadata": {},
   "source": [
    "# Q5. How many global scopes are there in a Python program? How many local scopes?"
   ]
  },
  {
   "cell_type": "markdown",
   "id": "sitting-maldives",
   "metadata": {},
   "source": [
    "### Ans.\n",
    "#### There is one global scope, and a local scope is created whenever a function is called"
   ]
  },
  {
   "cell_type": "markdown",
   "id": "dirty-essex",
   "metadata": {},
   "source": [
    "# Q6. What happens to variables in a local scope when the function call returns?"
   ]
  },
  {
   "cell_type": "markdown",
   "id": "regulated-cruise",
   "metadata": {},
   "source": [
    "### Ans.\n",
    "#### When a function returns, the local scope is destroyed, and all the variables in it are forgotten."
   ]
  },
  {
   "cell_type": "markdown",
   "id": "reliable-artist",
   "metadata": {},
   "source": [
    "# Q7. What is the concept of a return value? Is it possible to have a return value in an expression?"
   ]
  },
  {
   "cell_type": "markdown",
   "id": "motivated-academy",
   "metadata": {},
   "source": [
    "### Ans.\n",
    "#### A return value is the value that a function call evaluates to. Like any value, a return value can be used as part of an expression."
   ]
  },
  {
   "cell_type": "markdown",
   "id": "centered-stockholm",
   "metadata": {},
   "source": [
    "# Q8. If a function does not have a return statement, what is the return value of a call to that function?"
   ]
  },
  {
   "cell_type": "markdown",
   "id": "acquired-pakistan",
   "metadata": {},
   "source": [
    "### Ans.\n",
    "#### If there is no return statement for a function, its return value is None."
   ]
  },
  {
   "cell_type": "markdown",
   "id": "outstanding-revision",
   "metadata": {},
   "source": [
    "# Q9. How do you make a function variable refer to the global variable?"
   ]
  },
  {
   "cell_type": "markdown",
   "id": "civic-reducing",
   "metadata": {},
   "source": [
    "### Ans.\n",
    "#### A global statement will force a variable in a function to refer to the global variable."
   ]
  },
  {
   "cell_type": "markdown",
   "id": "speaking-atmosphere",
   "metadata": {},
   "source": [
    "# Q10. What is the data type of None?"
   ]
  },
  {
   "cell_type": "markdown",
   "id": "figured-inclusion",
   "metadata": {},
   "source": [
    "### Ans.\n",
    "#### The data type of None is NoneType."
   ]
  },
  {
   "cell_type": "markdown",
   "id": "accurate-title",
   "metadata": {},
   "source": [
    "# Q11. What does the sentence import areallyourpetsnamederic do?"
   ]
  },
  {
   "cell_type": "markdown",
   "id": "affecting-airfare",
   "metadata": {},
   "source": [
    "### Ans.\n",
    "#### That import statement imports a module named areallyourpetsnamederic."
   ]
  },
  {
   "cell_type": "markdown",
   "id": "jewish-street",
   "metadata": {},
   "source": [
    "# Q12. If you had a bacon() feature in a spam module, what would you call it after importing spam?"
   ]
  },
  {
   "cell_type": "markdown",
   "id": "mechanical-tunisia",
   "metadata": {},
   "source": [
    "### Ans.\n",
    "# The function can be called with: \n",
    "# spam.bacon()."
   ]
  },
  {
   "cell_type": "markdown",
   "id": "reserved-shakespeare",
   "metadata": {},
   "source": [
    "# Q13. What can you do to save a programme from crashing if it encounters an error?"
   ]
  },
  {
   "cell_type": "markdown",
   "id": "czech-portfolio",
   "metadata": {},
   "source": [
    "### Ans.\n",
    "#### Place the line of code that might cause an error in a try clause."
   ]
  },
  {
   "cell_type": "markdown",
   "id": "exotic-attempt",
   "metadata": {},
   "source": [
    "# Q14. What is the purpose of the try clause? What is the purpose of the except clause?"
   ]
  },
  {
   "cell_type": "markdown",
   "id": "concrete-partner",
   "metadata": {},
   "source": [
    "### Ans.\n",
    "#### The code that could potentially cause an error goes in the try clause.\n",
    "\n",
    "#### The code that executes if an error happens goes in the except clause."
   ]
  },
  {
   "cell_type": "code",
   "execution_count": null,
   "id": "liable-forge",
   "metadata": {},
   "outputs": [],
   "source": []
  }
 ],
 "metadata": {
  "kernelspec": {
   "display_name": "Python 3",
   "language": "python",
   "name": "python3"
  },
  "language_info": {
   "codemirror_mode": {
    "name": "ipython",
    "version": 3
   },
   "file_extension": ".py",
   "mimetype": "text/x-python",
   "name": "python",
   "nbconvert_exporter": "python",
   "pygments_lexer": "ipython3",
   "version": "3.8.5"
  }
 },
 "nbformat": 4,
 "nbformat_minor": 5
}
